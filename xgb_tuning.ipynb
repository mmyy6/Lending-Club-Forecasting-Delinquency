{
 "cells": [
  {
   "cell_type": "code",
   "execution_count": 2,
   "id": "ef5039c1-b6e7-45f9-b646-d0dd4abac0ef",
   "metadata": {},
   "outputs": [],
   "source": [
    "# Import pandas module\n",
    "import pandas as pd\n",
    "\n",
    "# Set display columns to max to allow us to see all columns in results\n",
    "pd.set_option('display.max_columns', None)\n",
    "\n",
    "# Read the loan_clean csv file in\n",
    "loan = pd.read_csv('loan_clean.csv')"
   ]
  },
  {
   "cell_type": "code",
   "execution_count": 3,
   "id": "ac4fd6cc-ce3b-4056-9536-453c9998ef76",
   "metadata": {},
   "outputs": [
    {
     "data": {
      "text/html": [
       "<div>\n",
       "<style scoped>\n",
       "    .dataframe tbody tr th:only-of-type {\n",
       "        vertical-align: middle;\n",
       "    }\n",
       "\n",
       "    .dataframe tbody tr th {\n",
       "        vertical-align: top;\n",
       "    }\n",
       "\n",
       "    .dataframe thead th {\n",
       "        text-align: right;\n",
       "    }\n",
       "</style>\n",
       "<table border=\"1\" class=\"dataframe\">\n",
       "  <thead>\n",
       "    <tr style=\"text-align: right;\">\n",
       "      <th></th>\n",
       "      <th>unique_num</th>\n",
       "      <th>loan_amnt</th>\n",
       "      <th>term</th>\n",
       "      <th>int_rate</th>\n",
       "      <th>installment</th>\n",
       "      <th>grade</th>\n",
       "      <th>sub_grade</th>\n",
       "      <th>emp_title</th>\n",
       "      <th>emp_length</th>\n",
       "      <th>home_ownership</th>\n",
       "      <th>annual_inc</th>\n",
       "      <th>issue_d</th>\n",
       "      <th>loan_status</th>\n",
       "      <th>purpose</th>\n",
       "      <th>addr_state</th>\n",
       "      <th>dti</th>\n",
       "      <th>delinq_2yrs</th>\n",
       "      <th>earliest_cr_line</th>\n",
       "      <th>mths_since_last_delinq</th>\n",
       "      <th>open_acc</th>\n",
       "      <th>pub_rec</th>\n",
       "      <th>revol_util</th>\n",
       "      <th>total_acc</th>\n",
       "      <th>total_rec_prncp</th>\n",
       "      <th>application_type</th>\n",
       "      <th>annual_inc_joint</th>\n",
       "      <th>dti_joint</th>\n",
       "      <th>acc_now_delinq</th>\n",
       "      <th>tot_cur_bal</th>\n",
       "      <th>total_rev_hi_lim</th>\n",
       "      <th>avg_cur_bal</th>\n",
       "      <th>delinq_amnt</th>\n",
       "      <th>mort_acc</th>\n",
       "      <th>num_accts_ever_120_pd</th>\n",
       "      <th>num_tl_30dpd</th>\n",
       "      <th>num_tl_90g_dpd_24m</th>\n",
       "      <th>percent_bc_gt_75</th>\n",
       "      <th>pub_rec_bankruptcies</th>\n",
       "      <th>total_bal_ex_mort</th>\n",
       "      <th>revol_bal_joint</th>\n",
       "      <th>sec_app_mort_acc</th>\n",
       "      <th>hardship_flag</th>\n",
       "    </tr>\n",
       "  </thead>\n",
       "  <tbody>\n",
       "    <tr>\n",
       "      <th>0</th>\n",
       "      <td>0</td>\n",
       "      <td>2500</td>\n",
       "      <td>36 months</td>\n",
       "      <td>13.56</td>\n",
       "      <td>84.92</td>\n",
       "      <td>C</td>\n",
       "      <td>C1</td>\n",
       "      <td>Chef</td>\n",
       "      <td>10+ years</td>\n",
       "      <td>RENT</td>\n",
       "      <td>55000.0</td>\n",
       "      <td>Dec-2018</td>\n",
       "      <td>Current</td>\n",
       "      <td>debt_consolidation</td>\n",
       "      <td>NY</td>\n",
       "      <td>18.24</td>\n",
       "      <td>0.0</td>\n",
       "      <td>Apr-2001</td>\n",
       "      <td>999.0</td>\n",
       "      <td>9.0</td>\n",
       "      <td>1.0</td>\n",
       "      <td>10.3</td>\n",
       "      <td>34.0</td>\n",
       "      <td>113.98</td>\n",
       "      <td>Individual</td>\n",
       "      <td>NaN</td>\n",
       "      <td>NaN</td>\n",
       "      <td>0.0</td>\n",
       "      <td>16901.0</td>\n",
       "      <td>42000.0</td>\n",
       "      <td>1878.0</td>\n",
       "      <td>0.0</td>\n",
       "      <td>0.0</td>\n",
       "      <td>0.0</td>\n",
       "      <td>0.0</td>\n",
       "      <td>0.0</td>\n",
       "      <td>0.0</td>\n",
       "      <td>1.0</td>\n",
       "      <td>16901.0</td>\n",
       "      <td>NaN</td>\n",
       "      <td>NaN</td>\n",
       "      <td>N</td>\n",
       "    </tr>\n",
       "    <tr>\n",
       "      <th>1</th>\n",
       "      <td>1</td>\n",
       "      <td>30000</td>\n",
       "      <td>60 months</td>\n",
       "      <td>18.94</td>\n",
       "      <td>777.23</td>\n",
       "      <td>D</td>\n",
       "      <td>D2</td>\n",
       "      <td>Postmaster</td>\n",
       "      <td>10+ years</td>\n",
       "      <td>MORTGAGE</td>\n",
       "      <td>90000.0</td>\n",
       "      <td>Dec-2018</td>\n",
       "      <td>Current</td>\n",
       "      <td>debt_consolidation</td>\n",
       "      <td>LA</td>\n",
       "      <td>26.52</td>\n",
       "      <td>0.0</td>\n",
       "      <td>Jun-1987</td>\n",
       "      <td>71.0</td>\n",
       "      <td>13.0</td>\n",
       "      <td>1.0</td>\n",
       "      <td>24.2</td>\n",
       "      <td>44.0</td>\n",
       "      <td>612.25</td>\n",
       "      <td>Individual</td>\n",
       "      <td>NaN</td>\n",
       "      <td>NaN</td>\n",
       "      <td>0.0</td>\n",
       "      <td>321915.0</td>\n",
       "      <td>50800.0</td>\n",
       "      <td>24763.0</td>\n",
       "      <td>0.0</td>\n",
       "      <td>3.0</td>\n",
       "      <td>0.0</td>\n",
       "      <td>0.0</td>\n",
       "      <td>0.0</td>\n",
       "      <td>0.0</td>\n",
       "      <td>1.0</td>\n",
       "      <td>99468.0</td>\n",
       "      <td>NaN</td>\n",
       "      <td>NaN</td>\n",
       "      <td>N</td>\n",
       "    </tr>\n",
       "    <tr>\n",
       "      <th>2</th>\n",
       "      <td>2</td>\n",
       "      <td>5000</td>\n",
       "      <td>36 months</td>\n",
       "      <td>17.97</td>\n",
       "      <td>180.69</td>\n",
       "      <td>D</td>\n",
       "      <td>D1</td>\n",
       "      <td>Administrative</td>\n",
       "      <td>6 years</td>\n",
       "      <td>MORTGAGE</td>\n",
       "      <td>59280.0</td>\n",
       "      <td>Dec-2018</td>\n",
       "      <td>Current</td>\n",
       "      <td>debt_consolidation</td>\n",
       "      <td>MI</td>\n",
       "      <td>10.51</td>\n",
       "      <td>0.0</td>\n",
       "      <td>Apr-2011</td>\n",
       "      <td>999.0</td>\n",
       "      <td>8.0</td>\n",
       "      <td>0.0</td>\n",
       "      <td>19.1</td>\n",
       "      <td>13.0</td>\n",
       "      <td>212.79</td>\n",
       "      <td>Individual</td>\n",
       "      <td>NaN</td>\n",
       "      <td>NaN</td>\n",
       "      <td>0.0</td>\n",
       "      <td>110299.0</td>\n",
       "      <td>24100.0</td>\n",
       "      <td>18383.0</td>\n",
       "      <td>0.0</td>\n",
       "      <td>2.0</td>\n",
       "      <td>0.0</td>\n",
       "      <td>0.0</td>\n",
       "      <td>0.0</td>\n",
       "      <td>0.0</td>\n",
       "      <td>0.0</td>\n",
       "      <td>11749.0</td>\n",
       "      <td>NaN</td>\n",
       "      <td>NaN</td>\n",
       "      <td>N</td>\n",
       "    </tr>\n",
       "    <tr>\n",
       "      <th>3</th>\n",
       "      <td>3</td>\n",
       "      <td>4000</td>\n",
       "      <td>36 months</td>\n",
       "      <td>18.94</td>\n",
       "      <td>146.51</td>\n",
       "      <td>D</td>\n",
       "      <td>D2</td>\n",
       "      <td>IT Supervisor</td>\n",
       "      <td>10+ years</td>\n",
       "      <td>MORTGAGE</td>\n",
       "      <td>92000.0</td>\n",
       "      <td>Dec-2018</td>\n",
       "      <td>Current</td>\n",
       "      <td>debt_consolidation</td>\n",
       "      <td>WA</td>\n",
       "      <td>16.74</td>\n",
       "      <td>0.0</td>\n",
       "      <td>Feb-2006</td>\n",
       "      <td>999.0</td>\n",
       "      <td>10.0</td>\n",
       "      <td>0.0</td>\n",
       "      <td>78.1</td>\n",
       "      <td>13.0</td>\n",
       "      <td>168.07</td>\n",
       "      <td>Individual</td>\n",
       "      <td>NaN</td>\n",
       "      <td>NaN</td>\n",
       "      <td>0.0</td>\n",
       "      <td>305049.0</td>\n",
       "      <td>7000.0</td>\n",
       "      <td>30505.0</td>\n",
       "      <td>0.0</td>\n",
       "      <td>3.0</td>\n",
       "      <td>0.0</td>\n",
       "      <td>0.0</td>\n",
       "      <td>0.0</td>\n",
       "      <td>100.0</td>\n",
       "      <td>0.0</td>\n",
       "      <td>36151.0</td>\n",
       "      <td>NaN</td>\n",
       "      <td>NaN</td>\n",
       "      <td>N</td>\n",
       "    </tr>\n",
       "    <tr>\n",
       "      <th>4</th>\n",
       "      <td>4</td>\n",
       "      <td>30000</td>\n",
       "      <td>60 months</td>\n",
       "      <td>16.14</td>\n",
       "      <td>731.78</td>\n",
       "      <td>C</td>\n",
       "      <td>C4</td>\n",
       "      <td>Mechanic</td>\n",
       "      <td>10+ years</td>\n",
       "      <td>MORTGAGE</td>\n",
       "      <td>57250.0</td>\n",
       "      <td>Dec-2018</td>\n",
       "      <td>Current</td>\n",
       "      <td>debt_consolidation</td>\n",
       "      <td>MD</td>\n",
       "      <td>26.35</td>\n",
       "      <td>0.0</td>\n",
       "      <td>Dec-2000</td>\n",
       "      <td>999.0</td>\n",
       "      <td>12.0</td>\n",
       "      <td>0.0</td>\n",
       "      <td>3.6</td>\n",
       "      <td>26.0</td>\n",
       "      <td>660.98</td>\n",
       "      <td>Individual</td>\n",
       "      <td>NaN</td>\n",
       "      <td>NaN</td>\n",
       "      <td>0.0</td>\n",
       "      <td>116007.0</td>\n",
       "      <td>23100.0</td>\n",
       "      <td>9667.0</td>\n",
       "      <td>0.0</td>\n",
       "      <td>2.0</td>\n",
       "      <td>0.0</td>\n",
       "      <td>0.0</td>\n",
       "      <td>0.0</td>\n",
       "      <td>0.0</td>\n",
       "      <td>0.0</td>\n",
       "      <td>29674.0</td>\n",
       "      <td>NaN</td>\n",
       "      <td>NaN</td>\n",
       "      <td>N</td>\n",
       "    </tr>\n",
       "  </tbody>\n",
       "</table>\n",
       "</div>"
      ],
      "text/plain": [
       "   unique_num  loan_amnt        term  int_rate  installment grade sub_grade  \\\n",
       "0           0       2500   36 months     13.56        84.92     C        C1   \n",
       "1           1      30000   60 months     18.94       777.23     D        D2   \n",
       "2           2       5000   36 months     17.97       180.69     D        D1   \n",
       "3           3       4000   36 months     18.94       146.51     D        D2   \n",
       "4           4      30000   60 months     16.14       731.78     C        C4   \n",
       "\n",
       "        emp_title emp_length home_ownership  annual_inc   issue_d loan_status  \\\n",
       "0            Chef  10+ years           RENT     55000.0  Dec-2018     Current   \n",
       "1     Postmaster   10+ years       MORTGAGE     90000.0  Dec-2018     Current   \n",
       "2  Administrative    6 years       MORTGAGE     59280.0  Dec-2018     Current   \n",
       "3   IT Supervisor  10+ years       MORTGAGE     92000.0  Dec-2018     Current   \n",
       "4        Mechanic  10+ years       MORTGAGE     57250.0  Dec-2018     Current   \n",
       "\n",
       "              purpose addr_state    dti  delinq_2yrs earliest_cr_line  \\\n",
       "0  debt_consolidation         NY  18.24          0.0         Apr-2001   \n",
       "1  debt_consolidation         LA  26.52          0.0         Jun-1987   \n",
       "2  debt_consolidation         MI  10.51          0.0         Apr-2011   \n",
       "3  debt_consolidation         WA  16.74          0.0         Feb-2006   \n",
       "4  debt_consolidation         MD  26.35          0.0         Dec-2000   \n",
       "\n",
       "   mths_since_last_delinq  open_acc  pub_rec  revol_util  total_acc  \\\n",
       "0                   999.0       9.0      1.0        10.3       34.0   \n",
       "1                    71.0      13.0      1.0        24.2       44.0   \n",
       "2                   999.0       8.0      0.0        19.1       13.0   \n",
       "3                   999.0      10.0      0.0        78.1       13.0   \n",
       "4                   999.0      12.0      0.0         3.6       26.0   \n",
       "\n",
       "   total_rec_prncp application_type  annual_inc_joint  dti_joint  \\\n",
       "0           113.98       Individual               NaN        NaN   \n",
       "1           612.25       Individual               NaN        NaN   \n",
       "2           212.79       Individual               NaN        NaN   \n",
       "3           168.07       Individual               NaN        NaN   \n",
       "4           660.98       Individual               NaN        NaN   \n",
       "\n",
       "   acc_now_delinq  tot_cur_bal  total_rev_hi_lim  avg_cur_bal  delinq_amnt  \\\n",
       "0             0.0      16901.0           42000.0       1878.0          0.0   \n",
       "1             0.0     321915.0           50800.0      24763.0          0.0   \n",
       "2             0.0     110299.0           24100.0      18383.0          0.0   \n",
       "3             0.0     305049.0            7000.0      30505.0          0.0   \n",
       "4             0.0     116007.0           23100.0       9667.0          0.0   \n",
       "\n",
       "   mort_acc  num_accts_ever_120_pd  num_tl_30dpd  num_tl_90g_dpd_24m  \\\n",
       "0       0.0                    0.0           0.0                 0.0   \n",
       "1       3.0                    0.0           0.0                 0.0   \n",
       "2       2.0                    0.0           0.0                 0.0   \n",
       "3       3.0                    0.0           0.0                 0.0   \n",
       "4       2.0                    0.0           0.0                 0.0   \n",
       "\n",
       "   percent_bc_gt_75  pub_rec_bankruptcies  total_bal_ex_mort  revol_bal_joint  \\\n",
       "0               0.0                   1.0            16901.0              NaN   \n",
       "1               0.0                   1.0            99468.0              NaN   \n",
       "2               0.0                   0.0            11749.0              NaN   \n",
       "3             100.0                   0.0            36151.0              NaN   \n",
       "4               0.0                   0.0            29674.0              NaN   \n",
       "\n",
       "   sec_app_mort_acc hardship_flag  \n",
       "0               NaN             N  \n",
       "1               NaN             N  \n",
       "2               NaN             N  \n",
       "3               NaN             N  \n",
       "4               NaN             N  "
      ]
     },
     "execution_count": 3,
     "metadata": {},
     "output_type": "execute_result"
    }
   ],
   "source": [
    "loan.head()"
   ]
  },
  {
   "cell_type": "markdown",
   "id": "60b47d98-57df-4345-9a45-180a7ebecc24",
   "metadata": {},
   "source": [
    "# Preparing data for Train/Test Split"
   ]
  },
  {
   "cell_type": "code",
   "execution_count": 4,
   "id": "e46b71ad-4ee0-4983-858e-03a724452153",
   "metadata": {},
   "outputs": [],
   "source": [
    "# Create a function to encode 'acc_now_delinq' to 1 for delinquent and 0 for non-delinquent (to use as the target/result)\n",
    "\n",
    "def delinq(delinq_count):\n",
    "    if delinq_count != 0:\n",
    "        return 1\n",
    "    else:\n",
    "        return 0\n",
    "\n",
    "# Apply the 'acc_now_delinq' column which shows number of delinquent accounts to the function and assigning it to a new column 'delinq_status'\n",
    "loan['delinq_status'] = loan.acc_now_delinq.apply(delinq)"
   ]
  },
  {
   "cell_type": "code",
   "execution_count": 5,
   "id": "0adc35ca-b0e1-4f42-b4dd-58244f1f769e",
   "metadata": {},
   "outputs": [
    {
     "data": {
      "text/html": [
       "<div>\n",
       "<style scoped>\n",
       "    .dataframe tbody tr th:only-of-type {\n",
       "        vertical-align: middle;\n",
       "    }\n",
       "\n",
       "    .dataframe tbody tr th {\n",
       "        vertical-align: top;\n",
       "    }\n",
       "\n",
       "    .dataframe thead th {\n",
       "        text-align: right;\n",
       "    }\n",
       "</style>\n",
       "<table border=\"1\" class=\"dataframe\">\n",
       "  <thead>\n",
       "    <tr style=\"text-align: right;\">\n",
       "      <th></th>\n",
       "      <th>count</th>\n",
       "    </tr>\n",
       "    <tr>\n",
       "      <th>delinq_status</th>\n",
       "      <th></th>\n",
       "    </tr>\n",
       "  </thead>\n",
       "  <tbody>\n",
       "    <tr>\n",
       "      <th>0</th>\n",
       "      <td>1994496</td>\n",
       "    </tr>\n",
       "    <tr>\n",
       "      <th>1</th>\n",
       "      <td>8173</td>\n",
       "    </tr>\n",
       "  </tbody>\n",
       "</table>\n",
       "</div>"
      ],
      "text/plain": [
       "                 count\n",
       "delinq_status         \n",
       "0              1994496\n",
       "1                 8173"
      ]
     },
     "execution_count": 5,
     "metadata": {},
     "output_type": "execute_result"
    }
   ],
   "source": [
    "# Sanity-check to confirm that the encoding worked\n",
    "\n",
    "loan.groupby('delinq_status')['unique_num'].agg(['count'])"
   ]
  },
  {
   "cell_type": "code",
   "execution_count": null,
   "id": "8e308706-9ac8-4a2e-a7d2-a9c4d2626853",
   "metadata": {},
   "outputs": [],
   "source": []
  },
  {
   "cell_type": "code",
   "execution_count": 6,
   "id": "6259eced-86c7-468c-ab92-6214183f381f",
   "metadata": {},
   "outputs": [],
   "source": [
    "# One-hot encoding categorical features using pd.get_dummies"
   ]
  },
  {
   "cell_type": "code",
   "execution_count": 7,
   "id": "029b7bd3-9eaa-42c1-8a97-f1746c6069b9",
   "metadata": {},
   "outputs": [],
   "source": [
    "# Encode sub_grades\n",
    "sub_grade_dummies = pd.get_dummies(loan.sub_grade, prefix='sub_grade')\n",
    "\n",
    "# Dropping the first column given we only need n-1 columns, with n being total number of columns\n",
    "sub_grade_dummies.drop(sub_grade_dummies.columns[0], axis=1, inplace=True)\n",
    "\n",
    "# Concatenating sub_grade_dummies with the main 'loan' dataframe\n",
    "loan_grades = pd.concat([loan, sub_grade_dummies], axis=1)"
   ]
  },
  {
   "cell_type": "code",
   "execution_count": 8,
   "id": "0d02287e-5828-4401-9f99-bfdf18115af1",
   "metadata": {},
   "outputs": [],
   "source": [
    "# Encode purpose\n",
    "purpose_dummies = pd.get_dummies(loan.purpose, prefix='purpose')\n",
    "\n",
    "# Dropping the first column given we only need n-1 columns, with n being total number of columns\n",
    "purpose_dummies.drop(purpose_dummies.columns[0], axis=1, inplace=True)\n",
    "\n",
    "# Concatenating sub_grade_dummies with the main 'loan' dataframe\n",
    "loan_grades_purpose = pd.concat([loan_grades, purpose_dummies], axis=1)"
   ]
  },
  {
   "cell_type": "code",
   "execution_count": 9,
   "id": "563236d0-fde2-482f-a433-87368d0ab49c",
   "metadata": {},
   "outputs": [],
   "source": [
    "# Encode addr_state\n",
    "state_dummies = pd.get_dummies(loan.addr_state, prefix='state')\n",
    "\n",
    "# Dropping the first column given we only need n-1 columns, with n being total number of columns\n",
    "state_dummies.drop(state_dummies.columns[0], axis=1, inplace=True)\n",
    "\n",
    "# Concatenating sub_grade_dummies with the main 'loan' dataframe\n",
    "loan_grades_purpose_state = pd.concat([loan_grades_purpose, state_dummies], axis=1)"
   ]
  },
  {
   "cell_type": "code",
   "execution_count": 10,
   "id": "cc51d95e-37b4-420d-ba3b-c3868f612dbd",
   "metadata": {},
   "outputs": [],
   "source": [
    "# Encode emp_length\n",
    "emplen_dummies = pd.get_dummies(loan.emp_length, prefix='emplen')\n",
    "\n",
    "# Dropping the first column given we only need n-1 columns, with n being total number of columns\n",
    "emplen_dummies.drop(emplen_dummies.columns[0], axis=1, inplace=True)\n",
    "\n",
    "# Concatenating sub_grade_dummies with the main 'loan' dataframe\n",
    "loan_grades_purpose_state_emplen = pd.concat([loan_grades_purpose_state, emplen_dummies], axis=1)"
   ]
  },
  {
   "cell_type": "code",
   "execution_count": 11,
   "id": "e011c274-b0bc-4b5f-97c8-42cc9fc0b2b9",
   "metadata": {
    "tags": []
   },
   "outputs": [],
   "source": [
    "loan_encoded = loan_grades_purpose_state_emplen"
   ]
  },
  {
   "cell_type": "code",
   "execution_count": null,
   "id": "6bdf35ce-abbc-42e1-adc5-5a3d59a8025b",
   "metadata": {},
   "outputs": [],
   "source": []
  },
  {
   "cell_type": "markdown",
   "id": "9cbdf52d-ba4a-418f-8a63-98054ccc545a",
   "metadata": {},
   "source": [
    "# Performing Train/Test Split"
   ]
  },
  {
   "cell_type": "code",
   "execution_count": 12,
   "id": "3bda56a5-9d91-4766-a4c9-ee1922973ba8",
   "metadata": {},
   "outputs": [],
   "source": [
    "# Importing relevant modules for the train/test split\n",
    "from sklearn.model_selection import train_test_split\n"
   ]
  },
  {
   "cell_type": "markdown",
   "id": "d959ed5d-abe5-4296-964c-5abec6210f17",
   "metadata": {},
   "source": [
    "Based on the analysis done in the EDA stage, we have determined the below features to use in the model:\n",
    "\n",
    "<u>Numerical</u>\n",
    "- annual_inc\n",
    "- dti\n",
    "- pub_rec_bankruptcies\n",
    "- delinq_2yrs\n",
    "- mths_since_last_delinq\n",
    "\n",
    "<u>Categorical</u>\n",
    "- addr_state\n",
    "- sub_grade\n",
    "- purpose\n",
    "- emp_length\n",
    "\n",
    "Note: The above is the complete list of features used in the testing of predictive models. However, the final features used in the selected best model may not have all the features above."
   ]
  },
  {
   "cell_type": "code",
   "execution_count": 13,
   "id": "847163db-88c3-4e65-b73e-79d5dca6a86f",
   "metadata": {},
   "outputs": [],
   "source": [
    "# Create feature matrix (X), i.e. features or factors that would impact prediction of delinquency\n",
    "\n",
    "# Create list of feature columns with the numerical features\n",
    "feature_cols = ['annual_inc', 'dti', 'pub_rec_bankruptcies', 'delinq_2yrs', 'mths_since_last_delinq']\n"
   ]
  },
  {
   "cell_type": "code",
   "execution_count": 14,
   "id": "4f7bdbd4-99ab-43a5-b4f9-a48344eac622",
   "metadata": {},
   "outputs": [],
   "source": [
    "# Use list comprehension to add the dummies columns\n",
    "\n"
   ]
  },
  {
   "cell_type": "code",
   "execution_count": 15,
   "id": "c8d72ccd-9e2d-495e-9189-b8e32b175e65",
   "metadata": {},
   "outputs": [
    {
     "data": {
      "text/plain": [
       "5"
      ]
     },
     "execution_count": 15,
     "metadata": {},
     "output_type": "execute_result"
    }
   ],
   "source": [
    "len(feature_cols)"
   ]
  },
  {
   "cell_type": "code",
   "execution_count": 16,
   "id": "1803a60a-3be1-4d7e-bc4e-9e696cef6bda",
   "metadata": {},
   "outputs": [],
   "source": [
    "# Creating feature matrix (X)\n",
    "X = loan_encoded[feature_cols]\n",
    "\n",
    "# Creating response vector (y)\n",
    "y = loan_encoded.delinq_status\n"
   ]
  },
  {
   "cell_type": "code",
   "execution_count": 17,
   "id": "5fc4357c-4fab-4abe-a35f-19f81e6bf8d7",
   "metadata": {},
   "outputs": [],
   "source": [
    "# Performing the train/test split with the test set set to 30% of dataset.\n",
    "X_train, X_test, y_train, y_test = train_test_split(X, y, test_size=0.3, random_state=123)"
   ]
  },
  {
   "cell_type": "markdown",
   "id": "478c8f32-7a30-486e-8b0d-eb3323ecca8e",
   "metadata": {},
   "source": [
    "# Setting up a baseline model and determining baseline accuracy"
   ]
  },
  {
   "cell_type": "code",
   "execution_count": 18,
   "id": "65b83147-8f33-48ac-9246-5268632ef65b",
   "metadata": {},
   "outputs": [
    {
     "data": {
      "text/plain": [
       "0.9959320973167488"
      ]
     },
     "execution_count": 18,
     "metadata": {},
     "output_type": "execute_result"
    }
   ],
   "source": [
    "import numpy as np\n",
    "\n",
    "# Finding the mode (or most frequent result) in y_train\n",
    "most_freq_class = y_train.mode().index[0]\n",
    "\n",
    "# The baseline accuracy is the average number of times that the result in the test set would be the most frequent class\n",
    "baseline_accuracy = np.mean(y_test == most_freq_class)\n",
    "baseline_accuracy\n",
    "\n",
    "# The baseline accuracy is at 99.6%"
   ]
  },
  {
   "cell_type": "code",
   "execution_count": 19,
   "id": "eeecd480-dfa0-4579-9a32-555c06820f3d",
   "metadata": {},
   "outputs": [
    {
     "data": {
      "text/plain": [
       "2002669"
      ]
     },
     "execution_count": 19,
     "metadata": {},
     "output_type": "execute_result"
    }
   ],
   "source": [
    "loan.delinq_status.count()"
   ]
  },
  {
   "cell_type": "markdown",
   "id": "d2f8363e-4da8-4f28-8518-885626dc09b2",
   "metadata": {},
   "source": [
    "# Creating Oversample set using SMOTE"
   ]
  },
  {
   "cell_type": "code",
   "execution_count": 23,
   "id": "fea598ec-cd31-4794-b7f8-3bac7c7bcd60",
   "metadata": {},
   "outputs": [],
   "source": [
    "# Importing SMOTE module\n",
    "from imblearn.over_sampling import SMOTE\n",
    "\n",
    "# Instantiate the SMOTE oversampling algorithm\n",
    "smote = SMOTE()\n",
    "\n",
    "# Apply SMOTE to oversample the minority class\n",
    "X_train_oversampled, y_train_oversampled = smote.fit_resample(X_train, y_train)\n"
   ]
  },
  {
   "cell_type": "code",
   "execution_count": 24,
   "id": "19afae50-2910-4e25-b273-15b13a63cd74",
   "metadata": {},
   "outputs": [
    {
     "data": {
      "text/plain": [
       "2792278"
      ]
     },
     "execution_count": 24,
     "metadata": {},
     "output_type": "execute_result"
    }
   ],
   "source": [
    "len(X_train_oversampled)"
   ]
  },
  {
   "cell_type": "markdown",
   "id": "e01588ee-aead-411f-94d4-b3bb8eeb610b",
   "metadata": {},
   "source": [
    "# Tuning the XGBoost model"
   ]
  },
  {
   "cell_type": "code",
   "execution_count": 25,
   "id": "0b779f14-b181-4cc4-a238-094d2c306b7c",
   "metadata": {},
   "outputs": [
    {
     "name": "stdout",
     "output_type": "stream",
     "text": [
      "[9, 10, 11, 12]\n",
      "Fitting 5 folds for each of 16 candidates, totalling 80 fits\n",
      "Best: 0.998622 using {'eta': 0.1, 'max_depth': 12, 'n_estimators': 1250, 'seed': 123}\n",
      "0.998409 (0.000081) with: {'eta': 0.1, 'max_depth': 9, 'n_estimators': 500, 'seed': 123}\n",
      "0.998485 (0.000087) with: {'eta': 0.1, 'max_depth': 9, 'n_estimators': 750, 'seed': 123}\n",
      "0.998524 (0.000093) with: {'eta': 0.1, 'max_depth': 9, 'n_estimators': 1000, 'seed': 123}\n",
      "0.998551 (0.000093) with: {'eta': 0.1, 'max_depth': 9, 'n_estimators': 1250, 'seed': 123}\n",
      "0.998468 (0.000089) with: {'eta': 0.1, 'max_depth': 10, 'n_estimators': 500, 'seed': 123}\n",
      "0.998529 (0.000089) with: {'eta': 0.1, 'max_depth': 10, 'n_estimators': 750, 'seed': 123}\n",
      "0.998562 (0.000090) with: {'eta': 0.1, 'max_depth': 10, 'n_estimators': 1000, 'seed': 123}\n",
      "0.998574 (0.000090) with: {'eta': 0.1, 'max_depth': 10, 'n_estimators': 1250, 'seed': 123}\n",
      "0.998514 (0.000083) with: {'eta': 0.1, 'max_depth': 11, 'n_estimators': 500, 'seed': 123}\n",
      "0.998564 (0.000093) with: {'eta': 0.1, 'max_depth': 11, 'n_estimators': 750, 'seed': 123}\n",
      "0.998584 (0.000096) with: {'eta': 0.1, 'max_depth': 11, 'n_estimators': 1000, 'seed': 123}\n",
      "0.998608 (0.000094) with: {'eta': 0.1, 'max_depth': 11, 'n_estimators': 1250, 'seed': 123}\n",
      "0.998549 (0.000081) with: {'eta': 0.1, 'max_depth': 12, 'n_estimators': 500, 'seed': 123}\n",
      "0.998586 (0.000077) with: {'eta': 0.1, 'max_depth': 12, 'n_estimators': 750, 'seed': 123}\n",
      "0.998612 (0.000075) with: {'eta': 0.1, 'max_depth': 12, 'n_estimators': 1000, 'seed': 123}\n",
      "0.998622 (0.000083) with: {'eta': 0.1, 'max_depth': 12, 'n_estimators': 1250, 'seed': 123}\n"
     ]
    }
   ],
   "source": [
    "from xgboost import XGBClassifier\n",
    "from sklearn import metrics\n",
    "from sklearn.model_selection import GridSearchCV, StratifiedKFold\n",
    "\n",
    "# Setting up the variables for grid search\n",
    "xgb = XGBClassifier()\n",
    "n_estimators = [500, 750, 1000, 1250]\n",
    "max_depth = [9, 10, 11, 12]\n",
    "print(max_depth)\n",
    "param_grid = dict(max_depth=max_depth, n_estimators=n_estimators, eta=[0.1], seed=[123])\n",
    "kfold = StratifiedKFold(n_splits=5, shuffle=True, random_state=123)\n",
    "\n",
    "# Use grid search\n",
    "grid_search = GridSearchCV(xgb, param_grid, scoring='accuracy', n_jobs=-1, cv=kfold, verbose=1)\n",
    "grid_result = grid_search.fit(X_train_oversampled, y_train_oversampled)\n",
    "\n",
    "# Summarize results\n",
    "print(\"Best: %f using %s\" % (grid_result.best_score_, grid_result.best_params_))\n",
    "means = grid_result.cv_results_['mean_test_score']\n",
    "stds = grid_result.cv_results_['std_test_score']\n",
    "params = grid_result.cv_results_['params']\n",
    "for mean, stdev, param in zip(means, stds, params):\n",
    " print(\"%f (%f) with: %r\" % (mean, stdev, param))\n",
    "\n"
   ]
  },
  {
   "cell_type": "code",
   "execution_count": null,
   "id": "ee070b1c-f883-4ccd-8eca-8f7465131d0f",
   "metadata": {},
   "outputs": [],
   "source": []
  }
 ],
 "metadata": {
  "kernelspec": {
   "display_name": "Python 3 (ipykernel)",
   "language": "python",
   "name": "python3"
  },
  "language_info": {
   "codemirror_mode": {
    "name": "ipython",
    "version": 3
   },
   "file_extension": ".py",
   "mimetype": "text/x-python",
   "name": "python",
   "nbconvert_exporter": "python",
   "pygments_lexer": "ipython3",
   "version": "3.10.8"
  }
 },
 "nbformat": 4,
 "nbformat_minor": 5
}
