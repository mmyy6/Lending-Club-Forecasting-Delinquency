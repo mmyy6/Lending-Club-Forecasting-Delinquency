{
 "cells": [
  {
   "cell_type": "code",
   "execution_count": 1,
   "id": "71a8a94c-5a79-421e-ab13-d817e1652022",
   "metadata": {},
   "outputs": [],
   "source": [
    "# Import pandas module\n",
    "import pandas as pd\n",
    "\n",
    "# Set display columns to max to allow us to see all columns in results\n",
    "pd.set_option('display.max_columns', None)\n",
    "\n",
    "# Read the loan_clean csv file in\n",
    "loan = pd.read_csv('loan_clean.csv')"
   ]
  },
  {
   "cell_type": "code",
   "execution_count": 2,
   "id": "293bb8d7-e760-4c58-a415-11184e837e82",
   "metadata": {},
   "outputs": [],
   "source": [
    "# Create a function to encode 'acc_now_delinq' to 1 for delinquent and 0 for non-delinquent (to use as the target/result)\n",
    "\n",
    "def delinq(delinq_count):\n",
    "    if delinq_count != 0:\n",
    "        return 1\n",
    "    else:\n",
    "        return 0\n",
    "\n",
    "# Apply the 'acc_now_delinq' column which shows number of delinquent accounts to the function and assigning it to a new column 'delinq_status'\n",
    "loan['delinq_status'] = loan.acc_now_delinq.apply(delinq)"
   ]
  },
  {
   "cell_type": "code",
   "execution_count": 3,
   "id": "6f1c7a09-0469-486b-b0a5-97ef753116ac",
   "metadata": {},
   "outputs": [],
   "source": [
    "# Importing relevant modules\n",
    "from sklearn.model_selection import train_test_split\n",
    "from sklearn.model_selection import KFold, cross_val_score\n",
    "from sklearn.ensemble import RandomForestClassifier\n",
    "\n"
   ]
  },
  {
   "cell_type": "code",
   "execution_count": 4,
   "id": "f44a4c9a-be4d-47b4-9087-0d723d48910a",
   "metadata": {},
   "outputs": [],
   "source": [
    "# Create feature matrix (X), i.e. features or factors that would impact prediction of delinquency\n",
    "\n",
    "# Create list of feature columns with the numerical features\n",
    "feature_cols = ['annual_inc', 'dti', 'pub_rec_bankruptcies', 'delinq_2yrs', 'mths_since_last_delinq']\n"
   ]
  },
  {
   "cell_type": "code",
   "execution_count": 5,
   "id": "86437e2e-37b0-48bb-82a9-28a6d1c0abb7",
   "metadata": {},
   "outputs": [],
   "source": [
    "# Creating feature matrix (X)\n",
    "X = loan[feature_cols]\n",
    "\n",
    "# Creating response vector (y)\n",
    "y = loan.delinq_status\n"
   ]
  },
  {
   "cell_type": "code",
   "execution_count": 6,
   "id": "2ed883d4-84a3-4828-8be4-b81847990a8b",
   "metadata": {},
   "outputs": [],
   "source": [
    "# Performing the train/test split with the test set set to 30% of dataset.\n",
    "X_train, X_test, y_train, y_test = train_test_split(X, y, test_size=0.3, random_state=123)"
   ]
  },
  {
   "cell_type": "code",
   "execution_count": 7,
   "id": "f6e8337f-2c33-4521-a8a6-69cfcd39d560",
   "metadata": {},
   "outputs": [],
   "source": [
    "# Importing SMOTE module\n",
    "from imblearn.over_sampling import SMOTE\n",
    "\n",
    "# Instantiate the SMOTE oversampling algorithm\n",
    "smote = SMOTE()\n",
    "\n",
    "# Apply SMOTE to oversample the minority class\n",
    "X_train_oversampled, y_train_oversampled = smote.fit_resample(X_train, y_train)\n"
   ]
  },
  {
   "cell_type": "code",
   "execution_count": 8,
   "id": "d66c8b9e-6edf-4475-8585-9505c867a2e6",
   "metadata": {},
   "outputs": [],
   "source": [
    "# Define range of n_estimators to evaluate\n",
    "\n",
    "n_estimators_range = [100, 200, 300, 400, 500, 600]\n"
   ]
  },
  {
   "cell_type": "code",
   "execution_count": 9,
   "id": "142409d9-77d3-4461-b11e-1662418a7a11",
   "metadata": {},
   "outputs": [
    {
     "name": "stdout",
     "output_type": "stream",
     "text": [
      "100 done\n",
      "200 done\n",
      "300 done\n",
      "400 done\n",
      "500 done\n",
      "600 done\n"
     ]
    }
   ],
   "source": [
    "# Perform k-fold cross-validation\n",
    "\n",
    "kfold = KFold(n_splits=5, shuffle=True, random_state=123)\n",
    "results = []\n",
    "\n",
    "for n_estimator in n_estimators_range:\n",
    "    \n",
    "    # Initialize Random Forest model with n_estimator\n",
    "    rf = RandomForestClassifier(n_estimators = n_estimator, max_features='sqrt', random_state=123)\n",
    "    \n",
    "    # Perform cross-validation\n",
    "    cv_scores = cross_val_score(rf, X_train_oversampled, y_train_oversampled, cv=kfold, scoring='accuracy')\n",
    "    \n",
    "    # Store mean accuracy\n",
    "    results.append((n_estimator, cv_scores.mean()))\n",
    "    \n",
    "    print(f\"{n_estimator} done\")\n",
    "    "
   ]
  },
  {
   "cell_type": "code",
   "execution_count": 10,
   "id": "2fdee5ac-f9e9-4741-9ddf-5ad7048d42d1",
   "metadata": {},
   "outputs": [
    {
     "name": "stdout",
     "output_type": "stream",
     "text": [
      "n_estimators: 100, Mean accuracy: 0.9983003124979015\n",
      "n_estimators: 200, Mean accuracy: 0.9983128470651683\n",
      "n_estimators: 300, Mean accuracy: 0.9983089076315188\n",
      "n_estimators: 400, Mean accuracy: 0.9983167864994591\n",
      "n_estimators: 500, Mean accuracy: 0.998317860891562\n",
      "n_estimators: 600, Mean accuracy: 0.9983178608902795\n"
     ]
    }
   ],
   "source": [
    "# Print results\n",
    "for n_estimator, mean_score in results:\n",
    "    print(\"n_estimators: {}, Mean accuracy: {}\".format(n_estimator, mean_score))"
   ]
  },
  {
   "cell_type": "code",
   "execution_count": 11,
   "id": "602d492a-d7e3-4e18-9e33-e5b1c3ecad75",
   "metadata": {},
   "outputs": [
    {
     "data": {
      "text/plain": [
       "[(100, 0.9983003124979015),\n",
       " (200, 0.9983128470651683),\n",
       " (300, 0.9983089076315188),\n",
       " (400, 0.9983167864994591),\n",
       " (500, 0.998317860891562),\n",
       " (600, 0.9983178608902795)]"
      ]
     },
     "execution_count": 11,
     "metadata": {},
     "output_type": "execute_result"
    }
   ],
   "source": [
    "results"
   ]
  },
  {
   "cell_type": "code",
   "execution_count": 12,
   "id": "6d46a003-e42e-4fa6-9379-df6ffc022313",
   "metadata": {},
   "outputs": [
    {
     "data": {
      "text/plain": [
       "[(500, 0.998317860891562),\n",
       " (600, 0.9983178608902795),\n",
       " (400, 0.9983167864994591),\n",
       " (200, 0.9983128470651683),\n",
       " (300, 0.9983089076315188),\n",
       " (100, 0.9983003124979015)]"
      ]
     },
     "execution_count": 12,
     "metadata": {},
     "output_type": "execute_result"
    }
   ],
   "source": [
    "sorted_list = sorted(results, key=lambda x: x[1], reverse=True)\n",
    "\n",
    "sorted_list\n"
   ]
  },
  {
   "cell_type": "code",
   "execution_count": null,
   "id": "c7f58c78-27b1-41ca-8152-a45782af3215",
   "metadata": {},
   "outputs": [],
   "source": []
  }
 ],
 "metadata": {
  "kernelspec": {
   "display_name": "Python 3 (ipykernel)",
   "language": "python",
   "name": "python3"
  },
  "language_info": {
   "codemirror_mode": {
    "name": "ipython",
    "version": 3
   },
   "file_extension": ".py",
   "mimetype": "text/x-python",
   "name": "python",
   "nbconvert_exporter": "python",
   "pygments_lexer": "ipython3",
   "version": "3.10.8"
  }
 },
 "nbformat": 4,
 "nbformat_minor": 5
}
