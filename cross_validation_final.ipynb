{
 "cells": [
  {
   "cell_type": "code",
   "execution_count": 1,
   "id": "71a8a94c-5a79-421e-ab13-d817e1652022",
   "metadata": {},
   "outputs": [],
   "source": [
    "# Import pandas module\n",
    "import pandas as pd\n",
    "\n",
    "# Set display columns to max to allow us to see all columns in results\n",
    "pd.set_option('display.max_columns', None)\n",
    "\n",
    "# Read the loan_clean csv file in\n",
    "loan = pd.read_csv('loan_clean.csv')"
   ]
  },
  {
   "cell_type": "code",
   "execution_count": 2,
   "id": "293bb8d7-e760-4c58-a415-11184e837e82",
   "metadata": {},
   "outputs": [],
   "source": [
    "# Create a function to encode 'acc_now_delinq' to 1 for delinquent and 0 for non-delinquent (to use as the target/result)\n",
    "\n",
    "def delinq(delinq_count):\n",
    "    if delinq_count != 0:\n",
    "        return 1\n",
    "    else:\n",
    "        return 0\n",
    "\n",
    "# Apply the 'acc_now_delinq' column which shows number of delinquent accounts to the function and assigning it to a new column 'delinq_status'\n",
    "loan['delinq_status'] = loan.acc_now_delinq.apply(delinq)"
   ]
  },
  {
   "cell_type": "code",
   "execution_count": 3,
   "id": "6f1c7a09-0469-486b-b0a5-97ef753116ac",
   "metadata": {},
   "outputs": [],
   "source": [
    "# Importing relevant modules\n",
    "from sklearn.model_selection import KFold\n",
    "from sklearn.model_selection import cross_val_score\n",
    "from sklearn.neighbors import KNeighborsClassifier\n",
    "from sklearn.ensemble import RandomForestClassifier\n",
    "from xgboost import XGBClassifier\n",
    "\n"
   ]
  },
  {
   "cell_type": "code",
   "execution_count": 4,
   "id": "f44a4c9a-be4d-47b4-9087-0d723d48910a",
   "metadata": {},
   "outputs": [],
   "source": [
    "# Create feature matrix (X), i.e. features or factors that would impact prediction of delinquency\n",
    "\n",
    "# Create list of feature columns with the numerical features\n",
    "feature_cols = ['annual_inc', 'dti', 'pub_rec_bankruptcies', 'delinq_2yrs', 'mths_since_last_delinq']\n"
   ]
  },
  {
   "cell_type": "code",
   "execution_count": 5,
   "id": "86437e2e-37b0-48bb-82a9-28a6d1c0abb7",
   "metadata": {},
   "outputs": [],
   "source": [
    "# Creating feature matrix (X)\n",
    "X = loan[feature_cols]\n",
    "\n",
    "# Creating response vector (y)\n",
    "y = loan.delinq_status\n"
   ]
  },
  {
   "cell_type": "markdown",
   "id": "96a5d667-9ddb-4bf6-a3c7-e9de3fd8ae00",
   "metadata": {},
   "source": [
    "# Performing Train/Test Split"
   ]
  },
  {
   "cell_type": "code",
   "execution_count": 6,
   "id": "bbaab2d9-0b99-4e12-9927-256ffa6306ea",
   "metadata": {},
   "outputs": [],
   "source": [
    "# Importing relevant modules for the train/test split\n",
    "from sklearn.model_selection import train_test_split\n"
   ]
  },
  {
   "cell_type": "code",
   "execution_count": 7,
   "id": "7ad2f51a-4769-41ab-a0c5-fcbe295563b4",
   "metadata": {},
   "outputs": [],
   "source": [
    "# Performing the train/test split with the test set set to 30% of dataset.\n",
    "X_train, X_test, y_train, y_test = train_test_split(X, y, test_size=0.3, random_state=123)"
   ]
  },
  {
   "cell_type": "markdown",
   "id": "751d3627-48fb-4db8-9d29-f92245616033",
   "metadata": {},
   "source": [
    "# Creating Oversample set using SMOTE"
   ]
  },
  {
   "cell_type": "code",
   "execution_count": 8,
   "id": "fbf3249b-317f-449c-bcbb-e68d9864ff4b",
   "metadata": {},
   "outputs": [],
   "source": [
    "# Importing SMOTE module\n",
    "from imblearn.over_sampling import SMOTE\n",
    "\n",
    "# Instantiate the SMOTE oversampling algorithm\n",
    "smote = SMOTE()\n",
    "\n",
    "# Apply SMOTE to oversample the minority class\n",
    "X_train_oversampled, y_train_oversampled = smote.fit_resample(X_train, y_train)\n"
   ]
  },
  {
   "cell_type": "code",
   "execution_count": 9,
   "id": "d66c8b9e-6edf-4475-8585-9505c867a2e6",
   "metadata": {},
   "outputs": [],
   "source": [
    "# Define models to evaluate\n",
    "\n",
    "models = [KNeighborsClassifier(n_neighbors = 1),\n",
    "          RandomForestClassifier(n_estimators = 500, max_features='sqrt', random_state=123),\n",
    "          XGBClassifier(max_depth=16, eta=0.1, n_estimators=1750, seed=123)]\n"
   ]
  },
  {
   "cell_type": "code",
   "execution_count": 10,
   "id": "142409d9-77d3-4461-b11e-1662418a7a11",
   "metadata": {},
   "outputs": [
    {
     "name": "stdout",
     "output_type": "stream",
     "text": [
      "Model: KNeighborsClassifier, Average Score: 0.9951892326607625\n",
      "Model: RandomForestClassifier, Average Score: 0.9983386324801288\n",
      "Model: XGBClassifier, Average Score: 0.9986756332964021\n"
     ]
    }
   ],
   "source": [
    "# Perform k-fold cross-validation\n",
    "\n",
    "k_folds = 5\n",
    "\n",
    "for model in models:\n",
    "    \n",
    "    # Create a k-fold cross-validation object\n",
    "    kf = KFold(n_splits=k_folds, shuffle=True, random_state=123)\n",
    "    \n",
    "    # Instantiate the model\n",
    "    model_instance = model\n",
    "    \n",
    "    # Perform cross-validation\n",
    "    scores = cross_val_score(model_instance, X_train_oversampled, y_train_oversampled, cv=kf)\n",
    "    \n",
    "    # Calculate and print average score\n",
    "    avg_score = scores.mean()\n",
    "    print(f\"Model: {type(model_instance).__name__}, Average Score: {avg_score}\")"
   ]
  },
  {
   "cell_type": "code",
   "execution_count": null,
   "id": "2fdee5ac-f9e9-4741-9ddf-5ad7048d42d1",
   "metadata": {},
   "outputs": [],
   "source": []
  }
 ],
 "metadata": {
  "kernelspec": {
   "display_name": "Python 3 (ipykernel)",
   "language": "python",
   "name": "python3"
  },
  "language_info": {
   "codemirror_mode": {
    "name": "ipython",
    "version": 3
   },
   "file_extension": ".py",
   "mimetype": "text/x-python",
   "name": "python",
   "nbconvert_exporter": "python",
   "pygments_lexer": "ipython3",
   "version": "3.10.8"
  }
 },
 "nbformat": 4,
 "nbformat_minor": 5
}
